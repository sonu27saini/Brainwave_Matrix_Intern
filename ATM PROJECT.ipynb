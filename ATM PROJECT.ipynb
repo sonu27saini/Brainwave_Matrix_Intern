{
 "cells": [
  {
   "cell_type": "markdown",
   "id": "6ff12312-cc51-488c-9b0f-170b62f378f2",
   "metadata": {},
   "source": [
    "## Create a fully functional ATM interface using Python"
   ]
  },
  {
   "cell_type": "code",
   "execution_count": 9,
   "id": "0ed8d270-eafb-47ff-a888-cfd7f66a4440",
   "metadata": {},
   "outputs": [
    {
     "name": "stdout",
     "output_type": "stream",
     "text": [
      "Welcome to the ATM!\n"
     ]
    },
    {
     "name": "stdin",
     "output_type": "stream",
     "text": [
      "Enter your account number:  1234\n",
      "Enter your PIN:  2222\n"
     ]
    },
    {
     "name": "stdout",
     "output_type": "stream",
     "text": [
      "Authentication failed. Please try again.\n"
     ]
    }
   ],
   "source": [
    "class ATM:\n",
    "    def __init__(self):\n",
    "        self.accounts={\n",
    "            '1234' :{'pin':'1111', 'balance':1000},\n",
    "            '4567' :{'pin':'2222','balance':2000}\n",
    "        }\n",
    "    def authenticate(self,account_number,pin):\n",
    "        account= self.accounts.get(account_number)\n",
    "        if account and account['pin']== pin:\n",
    "            return True\n",
    "        return False\n",
    "    def display_balance(self,account_number):\n",
    "        balance= self.accounts[account_number]['balance']\n",
    "        print(f'your current balance is :{balance:.2f}')\n",
    "    def  deposit(self,account_number):\n",
    "        amount= float(input('Enter the amount to deposit:'))\n",
    "        if amount >0:\n",
    "            self.accounts[account_number]['balance'] += amount\n",
    "            print('Deposit successfully')\n",
    "        else:\n",
    "            print('invalid amount')\n",
    "    def withdrawl(self,account_number):\n",
    "        amount = float(input(\"Enter amount to withdraw: $\"))\n",
    "        if 0 < amount <= self.accounts[account_number][\"balance\"]:\n",
    "            self.accounts[account_number][\"balance\"] -= amount\n",
    "            print(\"Withdrawal successful!\")\n",
    "        else:\n",
    "            print(\"Insufficient funds or invalid amount.\")\n",
    "    def transfer(self,account_number):\n",
    "        target_amount= float(input('Enter the target amount :'))\n",
    "        if target_amount in self.accounts:\n",
    "            amount= float(input('Enter the transfer amount :'))\n",
    "            if 0<target_amount<self.accounts[account_number]['balance']:\n",
    "                self.accounts[account_number]['balance']-=amount\n",
    "                self.accounts[target_amount]['balance']+= amount\n",
    "                print('transfer successfully')\n",
    "            else:\n",
    "                print('Invalid amount')\n",
    "        else:\n",
    "            print('Target account not found')\n",
    "    def run(self):\n",
    "        print(\"Welcome to the ATM!\")\n",
    "        account_number = input(\"Enter your account number: \")\n",
    "        pin = input(\"Enter your PIN: \")\n",
    "        if self.authenticate(account_number, pin):\n",
    "            print(\"Authentication successful!\")\n",
    "            while True:\n",
    "                print(\"\\n1. Balance Inquiry\\n2. Deposit\\n3. Withdraw\\n4. Transfer\\n5. Exit\")\n",
    "                choice = input(\"Choose an option: \")\n",
    "                if choice == \"1\":\n",
    "                    self.display_balance(account_number)\n",
    "                elif choice == \"2\":\n",
    "                    self.deposit(account_number)\n",
    "                elif choice == \"3\":\n",
    "                    self.withdraw(account_number)\n",
    "                elif choice == \"4\":\n",
    "                    self.transfer(account_number)\n",
    "                elif choice == \"5\":\n",
    "                    print(\"Thank you for using the ATM. Goodbye!\")\n",
    "                    break\n",
    "                else:\n",
    "                    print(\"Invalid choice. Please try again.\")\n",
    "        else:\n",
    "            print(\"Authentication failed. Please try again.\")\n",
    "\n",
    "# Run the ATM program\n",
    "atm = ATM()\n",
    "atm.run()\n",
    "        \n",
    "        \n",
    "        \n",
    "            \n",
    "        \n",
    "        \n",
    "        \n",
    "        "
   ]
  },
  {
   "cell_type": "code",
   "execution_count": null,
   "id": "3c7018c2-ef09-45ed-839c-8ccef6b09aad",
   "metadata": {},
   "outputs": [],
   "source": []
  },
  {
   "cell_type": "code",
   "execution_count": 12,
   "id": "61241046-e69a-4fba-9b0f-c911392382d4",
   "metadata": {},
   "outputs": [
    {
     "name": "stdout",
     "output_type": "stream",
     "text": [
      "Welcome to the ATM!\n"
     ]
    },
    {
     "name": "stdin",
     "output_type": "stream",
     "text": [
      "Enter your account number:  1234\n",
      "Enter your PIN:  1111\n"
     ]
    },
    {
     "name": "stdout",
     "output_type": "stream",
     "text": [
      "Authentication successful!\n",
      "\n",
      "1. Balance Inquiry\n",
      "2. Deposit\n",
      "3. Withdraw\n",
      "4. Transfer\n",
      "5. Exit\n"
     ]
    },
    {
     "name": "stdin",
     "output_type": "stream",
     "text": [
      "Choose an option:  1\n"
     ]
    },
    {
     "name": "stdout",
     "output_type": "stream",
     "text": [
      "your current balance is :1000.00\n",
      "\n",
      "1. Balance Inquiry\n",
      "2. Deposit\n",
      "3. Withdraw\n",
      "4. Transfer\n",
      "5. Exit\n"
     ]
    },
    {
     "name": "stdin",
     "output_type": "stream",
     "text": [
      "Choose an option:  2\n",
      "Enter the amount to deposit: 1500\n"
     ]
    },
    {
     "name": "stdout",
     "output_type": "stream",
     "text": [
      "Deposit successfully\n",
      "\n",
      "1. Balance Inquiry\n",
      "2. Deposit\n",
      "3. Withdraw\n",
      "4. Transfer\n",
      "5. Exit\n"
     ]
    },
    {
     "name": "stdin",
     "output_type": "stream",
     "text": [
      "Choose an option:  3\n",
      "Enter amount to withdraw: $ 500\n"
     ]
    },
    {
     "name": "stdout",
     "output_type": "stream",
     "text": [
      "Withdrawal successful!\n",
      "\n",
      "1. Balance Inquiry\n",
      "2. Deposit\n",
      "3. Withdraw\n",
      "4. Transfer\n",
      "5. Exit\n"
     ]
    },
    {
     "name": "stdin",
     "output_type": "stream",
     "text": [
      "Choose an option:  1\n"
     ]
    },
    {
     "name": "stdout",
     "output_type": "stream",
     "text": [
      "your current balance is :2000.00\n",
      "\n",
      "1. Balance Inquiry\n",
      "2. Deposit\n",
      "3. Withdraw\n",
      "4. Transfer\n",
      "5. Exit\n"
     ]
    },
    {
     "name": "stdin",
     "output_type": "stream",
     "text": [
      "Choose an option:  5\n"
     ]
    },
    {
     "name": "stdout",
     "output_type": "stream",
     "text": [
      "Thank you for using the ATM. Goodbye!\n"
     ]
    }
   ],
   "source": [
    "class ATM:\n",
    "    def __init__(self):\n",
    "        self.accounts={\n",
    "            '1234' :{'pin':'1111', 'balance':1000},\n",
    "            '4567' :{'pin':'2222','balance':2000}\n",
    "        }\n",
    "    def authenticate(self,account_number,pin):\n",
    "        account= self.accounts.get(account_number)\n",
    "        if account and account['pin']== pin:\n",
    "            return True\n",
    "        return False\n",
    "    def display_balance(self,account_number):\n",
    "        balance= self.accounts[account_number]['balance']\n",
    "        print(f'your current balance is :{balance:.2f}')\n",
    "    def  deposit(self,account_number):\n",
    "        amount= float(input('Enter the amount to deposit:'))\n",
    "        if amount >0:\n",
    "            self.accounts[account_number]['balance'] += amount\n",
    "            print('Deposit successfully')\n",
    "        else:\n",
    "            print('invalid amount')\n",
    "    def withdraw(self,account_number):\n",
    "        amount = float(input(\"Enter amount to withdraw: $\"))\n",
    "        if 0 < amount <= self.accounts[account_number][\"balance\"]:\n",
    "            self.accounts[account_number][\"balance\"] -= amount\n",
    "            print(\"Withdrawal successful!\")\n",
    "        else:\n",
    "            print(\"Insufficient funds or invalid amount.\")\n",
    "    def transfer(self,account_number):\n",
    "        target_amount= float(input('Enter the target amount :'))\n",
    "        if target_amount in self.accounts:\n",
    "            amount= float(input('Enter the transfer amount :'))\n",
    "            if 0<target_amount<self.accounts[account_number]['balance']:\n",
    "                self.accounts[account_number]['balance']-=amount\n",
    "                self.accounts[target_amount]['balance']+= amount\n",
    "                print('transfer successfully')\n",
    "            else:\n",
    "                print('Invalid amount')\n",
    "        else:\n",
    "            print('Target account not found')\n",
    "    def run(self):\n",
    "        print(\"Welcome to the ATM!\")\n",
    "        account_number = input(\"Enter your account number: \")\n",
    "        pin = input(\"Enter your PIN: \")\n",
    "        if self.authenticate(account_number, pin):\n",
    "            print(\"Authentication successful!\")\n",
    "            while True:\n",
    "                print(\"\\n1. Balance Inquiry\\n2. Deposit\\n3. Withdraw\\n4. Transfer\\n5. Exit\")\n",
    "                choice = input(\"Choose an option: \")\n",
    "                if choice == \"1\":\n",
    "                    self.display_balance(account_number)\n",
    "                elif choice == \"2\":\n",
    "                    self.deposit(account_number)\n",
    "                elif choice == \"3\":\n",
    "                    self.withdraw(account_number)\n",
    "                elif choice == \"4\":\n",
    "                    self.transfer(account_number)\n",
    "                elif choice == \"5\":\n",
    "                    print(\"Thank you for using the ATM. Goodbye!\")\n",
    "                    break\n",
    "                else:\n",
    "                    print(\"Invalid choice. Please try again.\")\n",
    "        else:\n",
    "            print(\"Authentication failed. Please try again.\")\n",
    "\n",
    "# Run the ATM program\n",
    "atm = ATM()\n",
    "atm.run()\n",
    "        \n",
    "        \n",
    "        \n",
    "            \n",
    "        \n",
    "        \n",
    "        \n",
    "        "
   ]
  },
  {
   "cell_type": "code",
   "execution_count": null,
   "id": "54d7eef4-058a-45d7-8f4d-4d9470e52482",
   "metadata": {},
   "outputs": [],
   "source": []
  },
  {
   "cell_type": "code",
   "execution_count": null,
   "id": "bdeaaa43-c831-4bf6-bb30-bf39c36f7750",
   "metadata": {},
   "outputs": [],
   "source": []
  },
  {
   "cell_type": "code",
   "execution_count": null,
   "id": "fd6278f4-f7d4-42bd-aef3-b71a5b71e155",
   "metadata": {},
   "outputs": [],
   "source": []
  }
 ],
 "metadata": {
  "kernelspec": {
   "display_name": "Python 3 (ipykernel)",
   "language": "python",
   "name": "python3"
  },
  "language_info": {
   "codemirror_mode": {
    "name": "ipython",
    "version": 3
   },
   "file_extension": ".py",
   "mimetype": "text/x-python",
   "name": "python",
   "nbconvert_exporter": "python",
   "pygments_lexer": "ipython3",
   "version": "3.11.7"
  }
 },
 "nbformat": 4,
 "nbformat_minor": 5
}
